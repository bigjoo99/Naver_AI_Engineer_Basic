{
 "cells": [
  {
   "cell_type": "markdown",
   "metadata": {
    "id": "sD6XJLdGYzA1"
   },
   "source": [
    "### [TODO] 코드 구현 : `missingno` 라이브러리로 결측치 데이터 시각화 하기"
   ]
  },
  {
   "cell_type": "code",
   "execution_count": null,
   "metadata": {
    "id": "jVLrcIqOXG_R"
   },
   "outputs": [],
   "source": [
    "import missingno as msno # 라이브러리 임포트\n",
    "\n",
    "## 코드시작 ##\n",
    "# 미션 3-2 코드 작성 : data에 결손치를 missingno 라이브러리를 이용하여 시각화 해보세요.\n",
    "\n",
    "import matplotlib.pyplot as plt \n",
    "\n",
    "msno.matrix(data, figsize=(20,6), sparkline=False)\n",
    "plt.show()\n",
    "\n",
    "## 코드종료 ##\n",
    "\n",
    "sub_id = data['id'][train_len:]\n",
    "del data['id']\n",
    "\n",
    "print(data.columns)\n",
    "\n",
    "data['date'] = data['date'].apply(lambda x : str(x[:6]))\n",
    "data.head()\n",
    "\n",
    "fig, ax = plt.subplots(9, 2, figsize=(12, 50))   # 가로스크롤 때문에 그래프 확인이 불편하다면 figsize의 x값을 조절해 보세요.\n",
    "\n",
    "# date 변수(count==0인 경우)는 제외하고 분포를 확인\n",
    "count = 1\n",
    "columns = data.columns\n",
    "for row in range(9):\n",
    "    for col in range(2):\n",
    "        sns.kdeplot(data=data[columns[count]], ax=ax[row][col])\n",
    "        ax[row][col].set_title(columns[count], fontsize=15)\n",
    "        count += 1\n",
    "        if count == 19 :\n",
    "            break\n"
   ]
  },
  {
   "cell_type": "markdown",
   "metadata": {
    "id": "FPZS3n_yZUXP"
   },
   "source": [
    "### [TODO] 코드 구현 : 로그변환 수행"
   ]
  },
  {
   "cell_type": "code",
   "execution_count": null,
   "metadata": {
    "id": "hMH6Q-fhZoQh"
   },
   "outputs": [],
   "source": [
    "## 코드시작 ##\n",
    "# 미션 4 코드 작성 : 로그변환을 수행해보세요.\n",
    "\n",
    "# 치우친 분포의 컬럼을 저장해 두기\n",
    "skew_columns = ['bedrooms', 'sqft_living', 'sqft_lot', 'sqft_above', 'sqft_basement', 'sqft_lot15', 'sqft_living15']\n",
    "\n",
    "for c in skew_columns:\n",
    "    data[c] = np.log1p(data[c])  # '...' 을 코드로 채워주세요\n",
    "\n",
    "## 코드종료 ##\n",
    "\n",
    "fig, ax = plt.subplots(4, 2, figsize=(12, 24))\n",
    "\n",
    "count = 0\n",
    "for row in range(4):\n",
    "    for col in range(2):\n",
    "        if count == 7:\n",
    "            break\n",
    "        sns.kdeplot(data=data[skew_columns[count]], ax=ax[row][col])\n",
    "        ax[row][col].set_title(skew_columns[count], fontsize=15)\n",
    "        count += 1\n",
    "\n",
    "\n",
    "xx = np.linspace(0, 10, 500)\n",
    "yy = np.log(xx)\n",
    "\n",
    "plt.hlines(0, 0, 10)\n",
    "plt.vlines(0, -5, 5)\n",
    "plt.plot(xx, yy, c='r')\n",
    "plt.show()\n",
    "\n",
    "sns.kdeplot(y) # y는 미션 2에서 price를 저장하고 있음.\n",
    "plt.show()\n",
    "\n",
    "y_log_transformation = np.log1p(y) # 미션4의 힌트가 되겠네요 ^^\n",
    "\n",
    "sns.kdeplot(y_log_transformation)\n",
    "plt.show()\n",
    "\n",
    "sub = data.iloc[train_len:, :]\n",
    "x = data.iloc[:train_len, :]\n",
    "\n",
    "print(x.shape)\n",
    "print(sub.shape)\n"
   ]
  },
  {
   "cell_type": "markdown",
   "metadata": {
    "id": "8oKBJSo6ZUuD"
   },
   "source": [
    "ALL RIGHTS RESERVED. (C)NAVER Connect Foundation."
   ]
  }
 ],
 "metadata": {
  "colab": {
   "authorship_tag": "ABX9TyM678lz/ExQfjq0G69SqlaX",
   "provenance": []
  },
  "kernelspec": {
   "display_name": "Python 3",
   "language": "python",
   "name": "python3"
  },
  "language_info": {
   "codemirror_mode": {
    "name": "ipython",
    "version": 3
   },
   "file_extension": ".py",
   "mimetype": "text/x-python",
   "name": "python",
   "nbconvert_exporter": "python",
   "pygments_lexer": "ipython3",
   "version": "3.6.13"
  }
 },
 "nbformat": 4,
 "nbformat_minor": 4
}
