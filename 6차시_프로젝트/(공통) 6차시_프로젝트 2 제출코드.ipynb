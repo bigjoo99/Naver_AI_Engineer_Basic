{
 "cells": [
  {
   "cell_type": "markdown",
   "metadata": {
    "id": "1tWZyjb6Ubig"
   },
   "source": [
    "### [TODO] 코드 구현 : 캐글 가입하기"
   ]
  },
  {
   "cell_type": "code",
   "execution_count": 1,
   "metadata": {
    "id": "o_MBsUJsUcef"
   },
   "outputs": [
    {
     "name": "stdout",
     "output_type": "stream",
     "text": [
      "juhyun park\n"
     ]
    }
   ],
   "source": [
    "## 코드시작 ##\n",
    "# 미션 1 코드 작성 : 캐글에 가입하고, 프로필명 공유하기\n",
    "\n",
    "print('juhyun park')  # '...' 에 프로필명을 채워주세요\n",
    "\n",
    "## 코드종료 ##"
   ]
  },
  {
   "cell_type": "markdown",
   "metadata": {
    "id": "VIPYel51V5z2"
   },
   "source": [
    "### [TODO] 코드 구현 : 학습 데이터에서 라벨 제거하기"
   ]
  },
  {
   "cell_type": "code",
   "execution_count": null,
   "metadata": {
    "id": "dhzVaIBCV2gT"
   },
   "outputs": [
    {
     "name": "stdout",
     "output_type": "stream",
     "text": [
      "train data dim : (15035, 21)\n",
      "sub data dim : (6468, 20)\n",
      "Index(['id', 'date', 'bedrooms', 'bathrooms', 'sqft_living', 'sqft_lot',\n",
      "       'floors', 'waterfront', 'view', 'condition', 'grade', 'sqft_above',\n",
      "       'sqft_basement', 'yr_built', 'yr_renovated', 'zipcode', 'lat', 'long',\n",
      "       'sqft_living15', 'sqft_lot15'],\n",
      "      dtype='object')\n",
      "21503\n",
      "<class 'pandas.core.frame.DataFrame'>\n",
      "Int64Index: 21503 entries, 0 to 6467\n",
      "Data columns (total 20 columns):\n",
      " #   Column         Non-Null Count  Dtype  \n",
      "---  ------         --------------  -----  \n",
      " 0   id             21503 non-null  int64  \n",
      " 1   date           21503 non-null  object \n",
      " 2   bedrooms       21503 non-null  int64  \n",
      " 3   bathrooms      21503 non-null  float64\n",
      " 4   sqft_living    21503 non-null  int64  \n",
      " 5   sqft_lot       21503 non-null  int64  \n",
      " 6   floors         21503 non-null  float64\n",
      " 7   waterfront     21503 non-null  int64  \n",
      " 8   view           21503 non-null  int64  \n",
      " 9   condition      21503 non-null  int64  \n",
      " 10  grade          21503 non-null  int64  \n",
      " 11  sqft_above     21503 non-null  int64  \n",
      " 12  sqft_basement  21503 non-null  int64  \n",
      " 13  yr_built       21503 non-null  int64  \n",
      " 14  yr_renovated   21503 non-null  int64  \n",
      " 15  zipcode        21503 non-null  int64  \n",
      " 16  lat            21503 non-null  float64\n",
      " 17  long           21503 non-null  float64\n",
      " 18  sqft_living15  21503 non-null  int64  \n",
      " 19  sqft_lot15     21503 non-null  int64  \n",
      "dtypes: float64(4), int64(15), object(1)\n",
      "memory usage: 3.4+ MB\n"
     ]
    }
   ],
   "source": [
    "import warnings\n",
    "warnings.filterwarnings(\"ignore\")\n",
    "\n",
    "import os\n",
    "from os.path import join\n",
    "\n",
    "import pandas as pd\n",
    "import numpy as np\n",
    "\n",
    "from sklearn.ensemble import GradientBoostingRegressor\n",
    "from sklearn.model_selection import KFold, cross_val_score\n",
    "import xgboost as xgb\n",
    "import lightgbm as lgb\n",
    "\n",
    "import matplotlib.pyplot as plt\n",
    "import seaborn as sns\n",
    "\n",
    "# 데이터 다운로드\n",
    "!wget –no-check-certificate 'https://docs.google.com/uc?export=download&id=1IVvuG3SMlarSSGmcliGFjq1fMxZtksE0' -O kaggle-kakr-housing-data.zip\n",
    "\n",
    "# 다운로드 받은 zip파일 압축풀기\n",
    "!unzip -qq ./kaggle-kakr-housing-data.zip\n",
    "\n",
    "train_data_path = './data/train.csv'\n",
    "test_data_path = './data/test.csv'\n",
    "\n",
    "data = pd.read_csv(train_data_path)\n",
    "sub = pd.read_csv(test_data_path)\n",
    "print('train data dim : {}'.format(data.shape))\n",
    "print('sub data dim : {}'.format(sub.shape))\n",
    "\n",
    "# data의 price를 y로 옮기기\n",
    "y = data['price']\n",
    "\n",
    "## 코드시작 ##\n",
    "# 미션 2 코드 작성 : data에서 price 컬럼을 완전히 삭제하기\n",
    "\n",
    "data = pd.DataFrame(data).drop('price', axis=1)\n",
    "\n",
    "\n",
    "## 코드종료 ##\n",
    "\n",
    "print(data.columns)\n",
    "\n",
    "train_len = len(data) # 학습데이터의 수\n",
    "data = pd.concat((data, sub), axis=0) # 학습데이터와 테스트 데이터 합치기\n",
    "\n",
    "print(len(data)) # 합쳐진 데이터의 수\n",
    "data.head() # 데이터 확인\n",
    "\n",
    "data.info()"
   ]
  },
  {
   "cell_type": "markdown",
   "metadata": {
    "id": "ZPK4mVSBV-gx"
   },
   "source": [
    "### [TODO] 코드 구현 : 결측치 데이터 비율 계산하기"
   ]
  },
  {
   "cell_type": "code",
   "execution_count": null,
   "metadata": {
    "id": "O43Bhr4FV2_h"
   },
   "outputs": [
    {
     "name": "stdout",
     "output_type": "stream",
     "text": [
      "Ellipsis\n"
     ]
    },
    {
     "ename": "TypeError",
     "evalue": "unsupported operand type(s) for /: 'ellipsis' and 'int'",
     "output_type": "error",
     "traceback": [
      "\u001b[1;31m---------------------------------------------------------------------------\u001b[0m",
      "\u001b[1;31mTypeError\u001b[0m                                 Traceback (most recent call last)",
      "\u001b[1;32m<ipython-input-5-00eb4e0cabf9>\u001b[0m in \u001b[0;36m<module>\u001b[1;34m\u001b[0m\n\u001b[0;32m      8\u001b[0m \u001b[1;31m## 코드종료 ##\u001b[0m\u001b[1;33m\u001b[0m\u001b[1;33m\u001b[0m\u001b[1;33m\u001b[0m\u001b[0m\n\u001b[0;32m      9\u001b[0m \u001b[1;33m\u001b[0m\u001b[0m\n\u001b[1;32m---> 10\u001b[1;33m \u001b[0mmissing\u001b[0m\u001b[1;33m/\u001b[0m\u001b[0mdata\u001b[0m\u001b[1;33m.\u001b[0m\u001b[0mshape\u001b[0m\u001b[1;33m[\u001b[0m\u001b[1;36m0\u001b[0m\u001b[1;33m]\u001b[0m\u001b[1;33m\u001b[0m\u001b[1;33m\u001b[0m\u001b[0m\n\u001b[0m\u001b[0;32m     11\u001b[0m \u001b[1;33m\u001b[0m\u001b[0m\n\u001b[0;32m     12\u001b[0m \u001b[0mdata\u001b[0m\u001b[1;33m.\u001b[0m\u001b[0mdescribe\u001b[0m\u001b[1;33m(\u001b[0m\u001b[1;33m)\u001b[0m\u001b[1;33m\u001b[0m\u001b[1;33m\u001b[0m\u001b[0m\n",
      "\u001b[1;31mTypeError\u001b[0m: unsupported operand type(s) for /: 'ellipsis' and 'int'"
     ]
    }
   ],
   "source": [
    "## 코드시작 ##\n",
    "# 미션 3-1 코드 작성 : data에 isna와 sum을 적용하여 각 컬럼의 결측치 수를 확인해보세요.\n",
    "\n",
    "missing = data.isna().sum() # '...' 을 코드로 채워주세요\n",
    "print(missing)\n",
    "\n",
    "\n",
    "## 코드종료 ##\n",
    "\n",
    "missing/data.shape[0]\n",
    "\n",
    "data.describe()"
   ]
  },
  {
   "cell_type": "markdown",
   "metadata": {
    "id": "JM_l8X79Wc1W"
   },
   "source": [
    "ALL RIGHTS RESERVED. (C)NAVER Connect Foundation."
   ]
  }
 ],
 "metadata": {
  "colab": {
   "authorship_tag": "ABX9TyOFqvdHyo8UovA4Fy2Af7Mp",
   "provenance": []
  },
  "kernelspec": {
   "display_name": "Python 3",
   "language": "python",
   "name": "python3"
  },
  "language_info": {
   "codemirror_mode": {
    "name": "ipython",
    "version": 3
   },
   "file_extension": ".py",
   "mimetype": "text/x-python",
   "name": "python",
   "nbconvert_exporter": "python",
   "pygments_lexer": "ipython3",
   "version": "3.6.13"
  }
 },
 "nbformat": 4,
 "nbformat_minor": 4
}
